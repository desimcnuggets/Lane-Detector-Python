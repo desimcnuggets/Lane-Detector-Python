{
 "cells": [
  {
   "cell_type": "code",
   "execution_count": 126,
   "metadata": {},
   "outputs": [],
   "source": [
    "import numpy as np\n",
    "import math\n",
    "import cv2\n",
    "import matplotlib.pyplot as plt\n",
    "from mpl_toolkits import mplot3d"
   ]
  },
  {
   "cell_type": "code",
   "execution_count": 331,
   "metadata": {},
   "outputs": [],
   "source": [
    "newimg = cv2.imread('test13.jpg', 1)\n",
    "newimghsv = cv2.cvtColor(newimg, cv2.COLOR_RGB2HSV)\n",
    "newimggray = cv2.cvtColor(newimg, cv2.COLOR_RGB2GRAY)\n",
    "cv2.imwrite('hsv.jpg', newimghsv)\n",
    "cv2.imwrite('gray.jpg', newimggray)\n",
    "b = np.ones(newimg.shape, np.uint8)"
   ]
  },
  {
   "cell_type": "code",
   "execution_count": 332,
   "metadata": {},
   "outputs": [],
   "source": [
    "sigma = 2\n",
    "T = 0.3\n",
    "#newimg = np.array(newimg)\n",
    "\n",
    "def calculate_filter_size(sigma, T):\n",
    "    sHalf = round(np.sqrt(- np.log(T) * 2 * sigma**2))\n",
    "    return sHalf\n",
    "\n",
    "sHalf = calculate_filter_size(sigma, T)\n",
    "size = (2 * sHalf) + 1\n",
    "size = int(size)\n",
    "x = np.arange(-sHalf, sHalf+1)\n",
    "y = np.arange(-sHalf, sHalf+1)\n",
    "\n",
    "def calculate_gradient(sHalf, sigma,x,y):\n",
    "    \n",
    "    [Y,X] = np.meshgrid(x,y)\n",
    "\n",
    "    f = (np.exp(-(X**2 + Y**2)/(2*(sigma**2))))\n",
    "        \n",
    "    return f\n",
    "\n",
    "f = calculate_gradient(sHalf, sigma, x, y)\n",
    "\n",
    "\n",
    "f = f / np.sum(f)\n",
    "\n",
    "def convfunction(f, newimghsv, size):\n",
    "    \n",
    "    h = newimghsv.shape[0]\n",
    "    w = newimghsv.shape[1]\n",
    "    height = h - size + 1\n",
    "    width = w - size + 1\n",
    "    \n",
    "    newf = np.zeros((height, width, 3))\n",
    "    \n",
    "    for i in range (height):\n",
    "        for j in range (width): \n",
    "            for a in range(size):\n",
    "                for b in range(size):\n",
    "                    newf[i][j] += f[a][b] * newimghsv[i + a][b + j]\n",
    "    \n",
    "    #newf = np.round(newf / 255)\n",
    "    \n",
    "    #cv2.imwrite('f.jpg', newf)\n",
    "    \n",
    "    return newf #, height, width\n",
    "\n",
    "newf = cv2.GaussianBlur(newimghsv,(5,5),0)      "
   ]
  },
  {
   "cell_type": "code",
   "execution_count": 333,
   "metadata": {},
   "outputs": [],
   "source": [
    "def filterout(newf, newimg):\n",
    "    binary = newf.copy()\n",
    "    a, b,c = binary.shape\n",
    "    \n",
    "    for y in range(0, a):\n",
    "            for x in range(0, b):\n",
    "                check = 0\n",
    "                if ( (20 < newf[y][x][0] <40) and (50 <  newf[y][x][1] < 255) and (50 <  newf[y][x][2] < 255)):\n",
    "                    check = 1\n",
    "                if (200 <  newf[y][x][2] < 255):\n",
    "                    check = 1\n",
    "                if (check == 0):\n",
    "                    binary[y][x][:] = 0\n",
    "                    \n",
    "    aaa = cv2.cvtColor(binary, cv2.COLOR_HSV2BGR)                \n",
    "    cv2.imwrite('test1_filtered.jpg', aaa)            \n",
    "    return binary  \n",
    "\n",
    "filterout = filterout(newf, newimg)\n"
   ]
  },
  {
   "cell_type": "code",
   "execution_count": 337,
   "metadata": {},
   "outputs": [
    {
     "data": {
      "image/png": "[encoded data removed]",
      "text/plain": [
       "<Figure size 432x288 with 1 Axes>"
      ]
     },
     "metadata": {
      "needs_background": "light"
     },
     "output_type": "display_data"
    }
   ],
   "source": [
    "Ig = cv2.cvtColor(filterout, cv2.COLOR_RGB2GRAY)\n",
    "\n",
    "edge = cv2.Canny(Ig, 100, 200)\n",
    "\n",
    "cv2.imwrite('step4.jpg', edge)\n",
    "\n",
    "plt.imshow(edge)\n",
    "plt.show()"
   ]
  },
  {
   "cell_type": "code",
   "execution_count": 328,
   "metadata": {},
   "outputs": [
    {
     "data": {
      "image/png": "[encoded data removed]",
      "text/plain": [
       "<Figure size 432x288 with 1 Axes>"
      ]
     },
     "metadata": {
      "needs_background": "light"
     },
     "output_type": "display_data"
    },
    {
     "data": {
      "image/png": "[encoded data removed]",
      "text/plain": [
       "<Figure size 432x288 with 1 Axes>"
      ]
     },
     "metadata": {
      "needs_background": "light"
     },
     "output_type": "display_data"
    }
   ],
   "source": [
    "vertices = np.array([[[130, 670], [1280, 670], [780, 280], [500, 280]]], dtype=np.int32 )\n",
    "shape = np.zeros([720,1280],dtype=np.uint8)\n",
    "mask = cv2.fillPoly(shape, vertices, 255)\n",
    "roi = edge.copy()\n",
    "\n",
    "plt.imshow(mask)\n",
    "plt.show()\n",
    "#cv2.imwrite('shape.jpg', mask)\n",
    "\n",
    "for x in range(0, 1280):\n",
    "            for y in range(0, 710):\n",
    "                if (mask[y,x] != 255):\n",
    "                    roi[y,x] = 0\n",
    "\n",
    "cv2.imwrite('test1_roi.jpg', roi)                    \n",
    "plt.imshow(roi)\n",
    "plt.show()"
   ]
  },
  {
   "cell_type": "code",
   "execution_count": 330,
   "metadata": {},
   "outputs": [
    {
     "name": "stdout",
     "output_type": "stream",
     "text": [
      "[[[ 395  499  577  317]]\n",
      "\n",
      " [[1057  717 1249  710]]\n",
      "\n",
      " [[ 412  494  448  456]]\n",
      "\n",
      " [[ 408  497  453  450]]\n",
      "\n",
      " [[1058  719 1231  710]]\n",
      "\n",
      " [[ 399  501  448  455]]]\n",
      "-45.0\n",
      "-2.0879838327233444\n",
      "-46.548157698977974\n",
      "-46.24536426676835\n",
      "-2.9780206519497523\n",
      "-43.191260677507934\n"
     ]
    },
    {
     "data": {
      "image/png": "[encoded data removed]",
      "text/plain": [
       "<Figure size 432x288 with 1 Axes>"
      ]
     },
     "metadata": {
      "needs_background": "light"
     },
     "output_type": "display_data"
    }
   ],
   "source": [
    "minLineLength =5\n",
    "maxLineGap = 200\n",
    "theta = 1*np.pi/180\n",
    "lines = cv2.HoughLinesP(roi, 2, theta, 30, np.array([]), minLineLength, maxLineGap)\n",
    "print(lines)\n",
    "check = 0\n",
    "\n",
    "final_image = np.zeros(newimg.shape, np.uint8)\n",
    "\n",
    "#for lines in range(0, len(lines)):\n",
    "for i in lines:\n",
    "    x1, y1, x2, y2 = i[0]   \n",
    "    angles = np.arctan2(y2 - y1, x2 - x1) * 180 / np.pi\n",
    "    print(angles)\n",
    "    if (angles < 0):\n",
    "        if (angles < 0):\n",
    "            check = 1\n",
    "    \n",
    "    elif (35 < angles < 47):\n",
    "        check = 1\n",
    "    \n",
    "    if (check == 1):\n",
    "        cv2.line(final_image, (x1, y1), (x2, y2), (0, 0, 255), 3)\n",
    "        \n",
    "output = cv2.addWeighted(newimg, 0.8, final_image, 1, 0)\n",
    "cv2.imwrite('test1_output.jpg', output)         \n",
    "plt.imshow(final_image)\n",
    "plt.show()"
   ]
  },
  {
   "cell_type": "code",
   "execution_count": null,
   "metadata": {},
   "outputs": [],
   "source": []
  }
 ],
 "metadata": {
  "kernelspec": {
   "display_name": "Python 3",
   "language": "python",
   "name": "python3"
  },
  "language_info": {
   "codemirror_mode": {
    "name": "ipython",
    "version": 3
   },
   "file_extension": ".py",
   "mimetype": "text/x-python",
   "name": "python",
   "nbconvert_exporter": "python",
   "pygments_lexer": "ipython3",
   "version": "3.7.3"
  }
 },
 "nbformat": 4,
 "nbformat_minor": 2
}
